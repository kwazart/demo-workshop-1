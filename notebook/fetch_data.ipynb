{
 "cells": [
  {
   "cell_type": "code",
   "metadata": {
    "ExecuteTime": {
     "end_time": "2024-05-19T21:48:30.147907Z",
     "start_time": "2024-05-19T21:48:30.145875Z"
    }
   },
   "source": [
    "# ! pip install pandas datasets"
   ],
   "outputs": [],
   "execution_count": 6
  },
  {
   "cell_type": "code",
   "metadata": {
    "ExecuteTime": {
     "end_time": "2024-05-19T21:48:31.323289Z",
     "start_time": "2024-05-19T21:48:31.321224Z"
    }
   },
   "source": [
    "import pandas as pd\n",
    "from datasets import load_dataset"
   ],
   "outputs": [],
   "execution_count": 7
  },
  {
   "cell_type": "code",
   "metadata": {
    "ExecuteTime": {
     "end_time": "2024-05-19T21:49:14.702769Z",
     "start_time": "2024-05-19T21:48:32.154623Z"
    }
   },
   "source": [
    "datasets = load_dataset('IlyaGusev/gazeta', revision=\"v1.0\", trust_remote_code=True)\n",
    "datasets"
   ],
   "outputs": [
    {
     "data": {
      "text/plain": [
       "Downloading builder script:   0%|          | 0.00/2.98k [00:00<?, ?B/s]"
      ],
      "application/vnd.jupyter.widget-view+json": {
       "version_major": 2,
       "version_minor": 0,
       "model_id": "58497ed6c2884f1690e158a157e81756"
      }
     },
     "metadata": {},
     "output_type": "display_data"
    },
    {
     "data": {
      "text/plain": [
       "Downloading metadata:   0%|          | 0.00/3.87k [00:00<?, ?B/s]"
      ],
      "application/vnd.jupyter.widget-view+json": {
       "version_major": 2,
       "version_minor": 0,
       "model_id": "f03c548ceff74be78478014e6d98717c"
      }
     },
     "metadata": {},
     "output_type": "display_data"
    },
    {
     "data": {
      "text/plain": [
       "Downloading readme:   0%|          | 0.00/12.2k [00:00<?, ?B/s]"
      ],
      "application/vnd.jupyter.widget-view+json": {
       "version_major": 2,
       "version_minor": 0,
       "model_id": "dd02cf3cb68f4262a75ca3280acb02c1"
      }
     },
     "metadata": {},
     "output_type": "display_data"
    },
    {
     "data": {
      "text/plain": [
       "Downloading data:   0%|          | 0.00/471M [00:00<?, ?B/s]"
      ],
      "application/vnd.jupyter.widget-view+json": {
       "version_major": 2,
       "version_minor": 0,
       "model_id": "fed5c06fdfb643c489034776df983f70"
      }
     },
     "metadata": {},
     "output_type": "display_data"
    },
    {
     "data": {
      "text/plain": [
       "Downloading data:   0%|          | 0.00/48.6M [00:00<?, ?B/s]"
      ],
      "application/vnd.jupyter.widget-view+json": {
       "version_major": 2,
       "version_minor": 0,
       "model_id": "f90ce4e459a543e9b6424a00065c5e25"
      }
     },
     "metadata": {},
     "output_type": "display_data"
    },
    {
     "data": {
      "text/plain": [
       "Downloading data:   0%|          | 0.00/52.1M [00:00<?, ?B/s]"
      ],
      "application/vnd.jupyter.widget-view+json": {
       "version_major": 2,
       "version_minor": 0,
       "model_id": "2e8a8d41153f4afbbe712d189321ada5"
      }
     },
     "metadata": {},
     "output_type": "display_data"
    },
    {
     "data": {
      "text/plain": [
       "Generating train split:   0%|          | 0/52400 [00:00<?, ? examples/s]"
      ],
      "application/vnd.jupyter.widget-view+json": {
       "version_major": 2,
       "version_minor": 0,
       "model_id": "4c888ec8f342448e86e221e5ce79fa48"
      }
     },
     "metadata": {},
     "output_type": "display_data"
    },
    {
     "data": {
      "text/plain": [
       "Generating test split:   0%|          | 0/5770 [00:00<?, ? examples/s]"
      ],
      "application/vnd.jupyter.widget-view+json": {
       "version_major": 2,
       "version_minor": 0,
       "model_id": "3b39c80169244d0b87719cd17cb4b990"
      }
     },
     "metadata": {},
     "output_type": "display_data"
    },
    {
     "data": {
      "text/plain": [
       "Generating validation split:   0%|          | 0/5265 [00:00<?, ? examples/s]"
      ],
      "application/vnd.jupyter.widget-view+json": {
       "version_major": 2,
       "version_minor": 0,
       "model_id": "f7e13d4030b04978b938be2e58fd221c"
      }
     },
     "metadata": {},
     "output_type": "display_data"
    },
    {
     "data": {
      "text/plain": [
       "DatasetDict({\n",
       "    train: Dataset({\n",
       "        features: ['text', 'summary', 'title', 'date', 'url'],\n",
       "        num_rows: 52400\n",
       "    })\n",
       "    test: Dataset({\n",
       "        features: ['text', 'summary', 'title', 'date', 'url'],\n",
       "        num_rows: 5770\n",
       "    })\n",
       "    validation: Dataset({\n",
       "        features: ['text', 'summary', 'title', 'date', 'url'],\n",
       "        num_rows: 5265\n",
       "    })\n",
       "})"
      ]
     },
     "execution_count": 8,
     "metadata": {},
     "output_type": "execute_result"
    }
   ],
   "execution_count": 8
  },
  {
   "cell_type": "code",
   "metadata": {
    "ExecuteTime": {
     "end_time": "2024-05-19T21:49:19.590096Z",
     "start_time": "2024-05-19T21:49:19.471925Z"
    }
   },
   "source": [
    "! mkdir ../data"
   ],
   "outputs": [],
   "execution_count": 9
  },
  {
   "cell_type": "code",
   "metadata": {
    "ExecuteTime": {
     "end_time": "2024-05-19T21:49:27.408318Z",
     "start_time": "2024-05-19T21:49:21.464176Z"
    }
   },
   "source": [
    "datasets[\"train\"].to_csv(\"../data/train.csv\")\n",
    "datasets[\"test\"].to_csv(\"../data/test.csv\")\n",
    "datasets[\"validation\"].to_csv(\"../data/validation.csv\")"
   ],
   "outputs": [
    {
     "data": {
      "text/plain": [
       "Creating CSV from Arrow format:   0%|          | 0/53 [00:00<?, ?ba/s]"
      ],
      "application/vnd.jupyter.widget-view+json": {
       "version_major": 2,
       "version_minor": 0,
       "model_id": "0789829f9d2a49d38f639f3e2052371c"
      }
     },
     "metadata": {},
     "output_type": "display_data"
    },
    {
     "data": {
      "text/plain": [
       "Creating CSV from Arrow format:   0%|          | 0/6 [00:00<?, ?ba/s]"
      ],
      "application/vnd.jupyter.widget-view+json": {
       "version_major": 2,
       "version_minor": 0,
       "model_id": "d08d989b25a047f8946fef09c4af3082"
      }
     },
     "metadata": {},
     "output_type": "display_data"
    },
    {
     "data": {
      "text/plain": [
       "Creating CSV from Arrow format:   0%|          | 0/6 [00:00<?, ?ba/s]"
      ],
      "application/vnd.jupyter.widget-view+json": {
       "version_major": 2,
       "version_minor": 0,
       "model_id": "b3dd4b116a024446b3b2835be8dc7740"
      }
     },
     "metadata": {},
     "output_type": "display_data"
    },
    {
     "data": {
      "text/plain": [
       "48336926"
      ]
     },
     "execution_count": 10,
     "metadata": {},
     "output_type": "execute_result"
    }
   ],
   "execution_count": 10
  },
  {
   "cell_type": "code",
   "metadata": {
    "ExecuteTime": {
     "end_time": "2024-05-19T21:49:36.136425Z",
     "start_time": "2024-05-19T21:49:31.350708Z"
    }
   },
   "source": [
    "df_train = pd.read_csv(\"../data/train.csv\")\n",
    "df_train"
   ],
   "outputs": [
    {
     "data": {
      "text/plain": [
       "                                                    text  \\\n",
       "0      «По итогам 2011 года чистый отток может состав...   \n",
       "1      Российское подразделение интернет-корпорации G...   \n",
       "2      Басманный районный суд Москвы вечером 6 феврал...   \n",
       "3      Как повлияло вступление в ВТО на конкурентносп...   \n",
       "4      К третьему сезону «Голос» на Первом канале ста...   \n",
       "...                                                  ...   \n",
       "52395  Следователя следственного отдела московского р...   \n",
       "52396  В понедельник из-за взрыва в Домодедово в оста...   \n",
       "52397  В Лас-Вегасе прошла церемония награждения побе...   \n",
       "52398  В среду Абинский райсуд Краснодарского края пр...   \n",
       "52399  В Екатеринбурге появится спортивный комплекс и...   \n",
       "\n",
       "                                                 summary  \\\n",
       "0      В 2011 году из России уйдет $80 млрд, считают ...   \n",
       "1      Юлия Соловьева, экс-директор холдинга «Профмед...   \n",
       "2      Суд арестовал на два месяца четверых экс-чинов...   \n",
       "3      Мнения предпринимателей по поводу вступления в...   \n",
       "4      На Первом канале завершился третий сезон шоу «...   \n",
       "...                                                  ...   \n",
       "52395  В Москве за вымогательство $700 тысяч задержан...   \n",
       "52396  Сразу после теракта в московском аэропорту Дом...   \n",
       "52397  Вручены награды музыкального журнала Billboard...   \n",
       "52398  Абинский райсуд Краснодарского края вынес приг...   \n",
       "52399  Бывший президент СБР и четырехкратный олимпийс...   \n",
       "\n",
       "                                                   title                 date  \\\n",
       "0                         Прогноз не успевает за оттоком  2011-11-30 18:33:39   \n",
       "1                                  Google закончил поиск  2013-01-24 18:20:09   \n",
       "2            «Фигуранты дела могут давить на свидетелей»  2018-02-06 21:21:14   \n",
       "3            «С последних традиционно «отжимают» больше»  2013-06-21 17:43:50   \n",
       "4                            Третий «Голос» за Градского  2014-12-27 01:10:01   \n",
       "...                                                  ...                  ...   \n",
       "52395                     Взятку привезли на «Мерседесе»  2010-10-13 14:01:03   \n",
       "52396                      Аэропорты вызывают на досмотр  2011-01-24 23:30:01   \n",
       "52397               Тимберлейк не увидел Майкла Джексона  2014-05-19 15:02:31   \n",
       "52398              Крымские чиновники уедут на поселение  2013-08-21 15:14:43   \n",
       "52399  «Врал народу ради Госдумы»: Шипулина обвинили ...  2019-04-04 17:40:22   \n",
       "\n",
       "                                                     url  \n",
       "0      https://www.gazeta.ru/financial/2011/11/30/385...  \n",
       "1      https://www.gazeta.ru/business/2013/01/24/4939...  \n",
       "2      https://www.gazeta.ru/social/2018/02/06/116393...  \n",
       "3      https://www.gazeta.ru/business/2013/06/21/5388...  \n",
       "4      https://www.gazeta.ru/culture/2014/12/27/a_636...  \n",
       "...                                                  ...  \n",
       "52395  https://www.gazeta.ru/social/2010/10/13/342826...  \n",
       "52396  https://www.gazeta.ru/social/2011/01/24/350307...  \n",
       "52397  https://www.gazeta.ru/culture/2014/05/19/a_603...  \n",
       "52398  https://www.gazeta.ru/social/2013/08/21/560047...  \n",
       "52399  https://www.gazeta.ru/sport/2019/04/04/a_12284...  \n",
       "\n",
       "[52400 rows x 5 columns]"
      ],
      "text/html": [
       "<div>\n",
       "<style scoped>\n",
       "    .dataframe tbody tr th:only-of-type {\n",
       "        vertical-align: middle;\n",
       "    }\n",
       "\n",
       "    .dataframe tbody tr th {\n",
       "        vertical-align: top;\n",
       "    }\n",
       "\n",
       "    .dataframe thead th {\n",
       "        text-align: right;\n",
       "    }\n",
       "</style>\n",
       "<table border=\"1\" class=\"dataframe\">\n",
       "  <thead>\n",
       "    <tr style=\"text-align: right;\">\n",
       "      <th></th>\n",
       "      <th>text</th>\n",
       "      <th>summary</th>\n",
       "      <th>title</th>\n",
       "      <th>date</th>\n",
       "      <th>url</th>\n",
       "    </tr>\n",
       "  </thead>\n",
       "  <tbody>\n",
       "    <tr>\n",
       "      <th>0</th>\n",
       "      <td>«По итогам 2011 года чистый отток может состав...</td>\n",
       "      <td>В 2011 году из России уйдет $80 млрд, считают ...</td>\n",
       "      <td>Прогноз не успевает за оттоком</td>\n",
       "      <td>2011-11-30 18:33:39</td>\n",
       "      <td>https://www.gazeta.ru/financial/2011/11/30/385...</td>\n",
       "    </tr>\n",
       "    <tr>\n",
       "      <th>1</th>\n",
       "      <td>Российское подразделение интернет-корпорации G...</td>\n",
       "      <td>Юлия Соловьева, экс-директор холдинга «Профмед...</td>\n",
       "      <td>Google закончил поиск</td>\n",
       "      <td>2013-01-24 18:20:09</td>\n",
       "      <td>https://www.gazeta.ru/business/2013/01/24/4939...</td>\n",
       "    </tr>\n",
       "    <tr>\n",
       "      <th>2</th>\n",
       "      <td>Басманный районный суд Москвы вечером 6 феврал...</td>\n",
       "      <td>Суд арестовал на два месяца четверых экс-чинов...</td>\n",
       "      <td>«Фигуранты дела могут давить на свидетелей»</td>\n",
       "      <td>2018-02-06 21:21:14</td>\n",
       "      <td>https://www.gazeta.ru/social/2018/02/06/116393...</td>\n",
       "    </tr>\n",
       "    <tr>\n",
       "      <th>3</th>\n",
       "      <td>Как повлияло вступление в ВТО на конкурентносп...</td>\n",
       "      <td>Мнения предпринимателей по поводу вступления в...</td>\n",
       "      <td>«С последних традиционно «отжимают» больше»</td>\n",
       "      <td>2013-06-21 17:43:50</td>\n",
       "      <td>https://www.gazeta.ru/business/2013/06/21/5388...</td>\n",
       "    </tr>\n",
       "    <tr>\n",
       "      <th>4</th>\n",
       "      <td>К третьему сезону «Голос» на Первом канале ста...</td>\n",
       "      <td>На Первом канале завершился третий сезон шоу «...</td>\n",
       "      <td>Третий «Голос» за Градского</td>\n",
       "      <td>2014-12-27 01:10:01</td>\n",
       "      <td>https://www.gazeta.ru/culture/2014/12/27/a_636...</td>\n",
       "    </tr>\n",
       "    <tr>\n",
       "      <th>...</th>\n",
       "      <td>...</td>\n",
       "      <td>...</td>\n",
       "      <td>...</td>\n",
       "      <td>...</td>\n",
       "      <td>...</td>\n",
       "    </tr>\n",
       "    <tr>\n",
       "      <th>52395</th>\n",
       "      <td>Следователя следственного отдела московского р...</td>\n",
       "      <td>В Москве за вымогательство $700 тысяч задержан...</td>\n",
       "      <td>Взятку привезли на «Мерседесе»</td>\n",
       "      <td>2010-10-13 14:01:03</td>\n",
       "      <td>https://www.gazeta.ru/social/2010/10/13/342826...</td>\n",
       "    </tr>\n",
       "    <tr>\n",
       "      <th>52396</th>\n",
       "      <td>В понедельник из-за взрыва в Домодедово в оста...</td>\n",
       "      <td>Сразу после теракта в московском аэропорту Дом...</td>\n",
       "      <td>Аэропорты вызывают на досмотр</td>\n",
       "      <td>2011-01-24 23:30:01</td>\n",
       "      <td>https://www.gazeta.ru/social/2011/01/24/350307...</td>\n",
       "    </tr>\n",
       "    <tr>\n",
       "      <th>52397</th>\n",
       "      <td>В Лас-Вегасе прошла церемония награждения побе...</td>\n",
       "      <td>Вручены награды музыкального журнала Billboard...</td>\n",
       "      <td>Тимберлейк не увидел Майкла Джексона</td>\n",
       "      <td>2014-05-19 15:02:31</td>\n",
       "      <td>https://www.gazeta.ru/culture/2014/05/19/a_603...</td>\n",
       "    </tr>\n",
       "    <tr>\n",
       "      <th>52398</th>\n",
       "      <td>В среду Абинский райсуд Краснодарского края пр...</td>\n",
       "      <td>Абинский райсуд Краснодарского края вынес приг...</td>\n",
       "      <td>Крымские чиновники уедут на поселение</td>\n",
       "      <td>2013-08-21 15:14:43</td>\n",
       "      <td>https://www.gazeta.ru/social/2013/08/21/560047...</td>\n",
       "    </tr>\n",
       "    <tr>\n",
       "      <th>52399</th>\n",
       "      <td>В Екатеринбурге появится спортивный комплекс и...</td>\n",
       "      <td>Бывший президент СБР и четырехкратный олимпийс...</td>\n",
       "      <td>«Врал народу ради Госдумы»: Шипулина обвинили ...</td>\n",
       "      <td>2019-04-04 17:40:22</td>\n",
       "      <td>https://www.gazeta.ru/sport/2019/04/04/a_12284...</td>\n",
       "    </tr>\n",
       "  </tbody>\n",
       "</table>\n",
       "<p>52400 rows × 5 columns</p>\n",
       "</div>"
      ]
     },
     "execution_count": 11,
     "metadata": {},
     "output_type": "execute_result"
    }
   ],
   "execution_count": 11
  },
  {
   "metadata": {},
   "cell_type": "code",
   "outputs": [],
   "execution_count": null,
   "source": ""
  }
 ],
 "metadata": {
  "kernelspec": {
   "display_name": "Python 3",
   "language": "python",
   "name": "python3"
  },
  "language_info": {
   "codemirror_mode": {
    "name": "ipython",
    "version": 3
   },
   "file_extension": ".py",
   "mimetype": "text/x-python",
   "name": "python",
   "nbconvert_exporter": "python",
   "pygments_lexer": "ipython3",
   "version": "3.12.1"
  }
 },
 "nbformat": 4,
 "nbformat_minor": 2
}
