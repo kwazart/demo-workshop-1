{
 "cells": [
  {
   "cell_type": "code",
   "execution_count": null,
   "metadata": {},
   "outputs": [],
   "source": [
    "# ! pip install pandas datasets"
   ]
  },
  {
   "cell_type": "code",
   "execution_count": 1,
   "metadata": {},
   "outputs": [],
   "source": [
    "import pandas as pd\n",
    "from datasets import load_dataset"
   ]
  },
  {
   "cell_type": "code",
   "execution_count": 3,
   "metadata": {},
   "outputs": [
    {
     "data": {
      "text/plain": [
       "DatasetDict({\n",
       "    train: Dataset({\n",
       "        features: ['text', 'summary', 'title', 'date', 'url'],\n",
       "        num_rows: 52400\n",
       "    })\n",
       "    test: Dataset({\n",
       "        features: ['text', 'summary', 'title', 'date', 'url'],\n",
       "        num_rows: 5770\n",
       "    })\n",
       "    validation: Dataset({\n",
       "        features: ['text', 'summary', 'title', 'date', 'url'],\n",
       "        num_rows: 5265\n",
       "    })\n",
       "})"
      ]
     },
     "execution_count": 3,
     "metadata": {},
     "output_type": "execute_result"
    }
   ],
   "source": [
    "datasets = load_dataset('IlyaGusev/gazeta', revision=\"v1.0\", trust_remote_code=True)\n",
    "datasets"
   ]
  },
  {
   "cell_type": "code",
   "execution_count": null,
   "metadata": {},
   "outputs": [],
   "source": [
    "! mkdir ../data"
   ]
  },
  {
   "cell_type": "code",
   "execution_count": 4,
   "metadata": {},
   "outputs": [
    {
     "name": "stderr",
     "output_type": "stream",
     "text": [
      "Creating CSV from Arrow format: 100%|██████████| 53/53 [00:08<00:00,  6.59ba/s]\n",
      "Creating CSV from Arrow format: 100%|██████████| 6/6 [00:00<00:00,  6.98ba/s]\n",
      "Creating CSV from Arrow format: 100%|██████████| 6/6 [00:00<00:00,  7.44ba/s]\n"
     ]
    },
    {
     "data": {
      "text/plain": [
       "48342192"
      ]
     },
     "execution_count": 4,
     "metadata": {},
     "output_type": "execute_result"
    }
   ],
   "source": [
    "datasets[\"train\"].to_csv(\"../data/train.csv\")\n",
    "datasets[\"test\"].to_csv(\"../data/test.csv\")\n",
    "datasets[\"validation\"].to_csv(\"../data/validation.csv\")"
   ]
  },
  {
   "cell_type": "code",
   "execution_count": 5,
   "metadata": {},
   "outputs": [
    {
     "data": {
      "text/html": [
       "<div>\n",
       "<style scoped>\n",
       "    .dataframe tbody tr th:only-of-type {\n",
       "        vertical-align: middle;\n",
       "    }\n",
       "\n",
       "    .dataframe tbody tr th {\n",
       "        vertical-align: top;\n",
       "    }\n",
       "\n",
       "    .dataframe thead th {\n",
       "        text-align: right;\n",
       "    }\n",
       "</style>\n",
       "<table border=\"1\" class=\"dataframe\">\n",
       "  <thead>\n",
       "    <tr style=\"text-align: right;\">\n",
       "      <th></th>\n",
       "      <th>text</th>\n",
       "      <th>summary</th>\n",
       "      <th>title</th>\n",
       "      <th>date</th>\n",
       "      <th>url</th>\n",
       "    </tr>\n",
       "  </thead>\n",
       "  <tbody>\n",
       "    <tr>\n",
       "      <th>0</th>\n",
       "      <td>«По итогам 2011 года чистый отток может состав...</td>\n",
       "      <td>В 2011 году из России уйдет $80 млрд, считают ...</td>\n",
       "      <td>Прогноз не успевает за оттоком</td>\n",
       "      <td>2011-11-30 18:33:39</td>\n",
       "      <td>https://www.gazeta.ru/financial/2011/11/30/385...</td>\n",
       "    </tr>\n",
       "    <tr>\n",
       "      <th>1</th>\n",
       "      <td>Российское подразделение интернет-корпорации G...</td>\n",
       "      <td>Юлия Соловьева, экс-директор холдинга «Профмед...</td>\n",
       "      <td>Google закончил поиск</td>\n",
       "      <td>2013-01-24 18:20:09</td>\n",
       "      <td>https://www.gazeta.ru/business/2013/01/24/4939...</td>\n",
       "    </tr>\n",
       "    <tr>\n",
       "      <th>2</th>\n",
       "      <td>Басманный районный суд Москвы вечером 6 феврал...</td>\n",
       "      <td>Суд арестовал на два месяца четверых экс-чинов...</td>\n",
       "      <td>«Фигуранты дела могут давить на свидетелей»</td>\n",
       "      <td>2018-02-06 21:21:14</td>\n",
       "      <td>https://www.gazeta.ru/social/2018/02/06/116393...</td>\n",
       "    </tr>\n",
       "    <tr>\n",
       "      <th>3</th>\n",
       "      <td>Как повлияло вступление в ВТО на конкурентносп...</td>\n",
       "      <td>Мнения предпринимателей по поводу вступления в...</td>\n",
       "      <td>«С последних традиционно «отжимают» больше»</td>\n",
       "      <td>2013-06-21 17:43:50</td>\n",
       "      <td>https://www.gazeta.ru/business/2013/06/21/5388...</td>\n",
       "    </tr>\n",
       "    <tr>\n",
       "      <th>4</th>\n",
       "      <td>К третьему сезону «Голос» на Первом канале ста...</td>\n",
       "      <td>На Первом канале завершился третий сезон шоу «...</td>\n",
       "      <td>Третий «Голос» за Градского</td>\n",
       "      <td>2014-12-27 01:10:01</td>\n",
       "      <td>https://www.gazeta.ru/culture/2014/12/27/a_636...</td>\n",
       "    </tr>\n",
       "    <tr>\n",
       "      <th>...</th>\n",
       "      <td>...</td>\n",
       "      <td>...</td>\n",
       "      <td>...</td>\n",
       "      <td>...</td>\n",
       "      <td>...</td>\n",
       "    </tr>\n",
       "    <tr>\n",
       "      <th>52395</th>\n",
       "      <td>Следователя следственного отдела московского р...</td>\n",
       "      <td>В Москве за вымогательство $700 тысяч задержан...</td>\n",
       "      <td>Взятку привезли на «Мерседесе»</td>\n",
       "      <td>2010-10-13 14:01:03</td>\n",
       "      <td>https://www.gazeta.ru/social/2010/10/13/342826...</td>\n",
       "    </tr>\n",
       "    <tr>\n",
       "      <th>52396</th>\n",
       "      <td>В понедельник из-за взрыва в Домодедово в оста...</td>\n",
       "      <td>Сразу после теракта в московском аэропорту Дом...</td>\n",
       "      <td>Аэропорты вызывают на досмотр</td>\n",
       "      <td>2011-01-24 23:30:01</td>\n",
       "      <td>https://www.gazeta.ru/social/2011/01/24/350307...</td>\n",
       "    </tr>\n",
       "    <tr>\n",
       "      <th>52397</th>\n",
       "      <td>В Лас-Вегасе прошла церемония награждения побе...</td>\n",
       "      <td>Вручены награды музыкального журнала Billboard...</td>\n",
       "      <td>Тимберлейк не увидел Майкла Джексона</td>\n",
       "      <td>2014-05-19 15:02:31</td>\n",
       "      <td>https://www.gazeta.ru/culture/2014/05/19/a_603...</td>\n",
       "    </tr>\n",
       "    <tr>\n",
       "      <th>52398</th>\n",
       "      <td>В среду Абинский райсуд Краснодарского края пр...</td>\n",
       "      <td>Абинский райсуд Краснодарского края вынес приг...</td>\n",
       "      <td>Крымские чиновники уедут на поселение</td>\n",
       "      <td>2013-08-21 15:14:43</td>\n",
       "      <td>https://www.gazeta.ru/social/2013/08/21/560047...</td>\n",
       "    </tr>\n",
       "    <tr>\n",
       "      <th>52399</th>\n",
       "      <td>В Екатеринбурге появится спортивный комплекс и...</td>\n",
       "      <td>Бывший президент СБР и четырехкратный олимпийс...</td>\n",
       "      <td>«Врал народу ради Госдумы»: Шипулина обвинили ...</td>\n",
       "      <td>2019-04-04 17:40:22</td>\n",
       "      <td>https://www.gazeta.ru/sport/2019/04/04/a_12284...</td>\n",
       "    </tr>\n",
       "  </tbody>\n",
       "</table>\n",
       "<p>52400 rows × 5 columns</p>\n",
       "</div>"
      ],
      "text/plain": [
       "                                                    text  \\\n",
       "0      «По итогам 2011 года чистый отток может состав...   \n",
       "1      Российское подразделение интернет-корпорации G...   \n",
       "2      Басманный районный суд Москвы вечером 6 феврал...   \n",
       "3      Как повлияло вступление в ВТО на конкурентносп...   \n",
       "4      К третьему сезону «Голос» на Первом канале ста...   \n",
       "...                                                  ...   \n",
       "52395  Следователя следственного отдела московского р...   \n",
       "52396  В понедельник из-за взрыва в Домодедово в оста...   \n",
       "52397  В Лас-Вегасе прошла церемония награждения побе...   \n",
       "52398  В среду Абинский райсуд Краснодарского края пр...   \n",
       "52399  В Екатеринбурге появится спортивный комплекс и...   \n",
       "\n",
       "                                                 summary  \\\n",
       "0      В 2011 году из России уйдет $80 млрд, считают ...   \n",
       "1      Юлия Соловьева, экс-директор холдинга «Профмед...   \n",
       "2      Суд арестовал на два месяца четверых экс-чинов...   \n",
       "3      Мнения предпринимателей по поводу вступления в...   \n",
       "4      На Первом канале завершился третий сезон шоу «...   \n",
       "...                                                  ...   \n",
       "52395  В Москве за вымогательство $700 тысяч задержан...   \n",
       "52396  Сразу после теракта в московском аэропорту Дом...   \n",
       "52397  Вручены награды музыкального журнала Billboard...   \n",
       "52398  Абинский райсуд Краснодарского края вынес приг...   \n",
       "52399  Бывший президент СБР и четырехкратный олимпийс...   \n",
       "\n",
       "                                                   title                 date  \\\n",
       "0                         Прогноз не успевает за оттоком  2011-11-30 18:33:39   \n",
       "1                                  Google закончил поиск  2013-01-24 18:20:09   \n",
       "2            «Фигуранты дела могут давить на свидетелей»  2018-02-06 21:21:14   \n",
       "3            «С последних традиционно «отжимают» больше»  2013-06-21 17:43:50   \n",
       "4                            Третий «Голос» за Градского  2014-12-27 01:10:01   \n",
       "...                                                  ...                  ...   \n",
       "52395                     Взятку привезли на «Мерседесе»  2010-10-13 14:01:03   \n",
       "52396                      Аэропорты вызывают на досмотр  2011-01-24 23:30:01   \n",
       "52397               Тимберлейк не увидел Майкла Джексона  2014-05-19 15:02:31   \n",
       "52398              Крымские чиновники уедут на поселение  2013-08-21 15:14:43   \n",
       "52399  «Врал народу ради Госдумы»: Шипулина обвинили ...  2019-04-04 17:40:22   \n",
       "\n",
       "                                                     url  \n",
       "0      https://www.gazeta.ru/financial/2011/11/30/385...  \n",
       "1      https://www.gazeta.ru/business/2013/01/24/4939...  \n",
       "2      https://www.gazeta.ru/social/2018/02/06/116393...  \n",
       "3      https://www.gazeta.ru/business/2013/06/21/5388...  \n",
       "4      https://www.gazeta.ru/culture/2014/12/27/a_636...  \n",
       "...                                                  ...  \n",
       "52395  https://www.gazeta.ru/social/2010/10/13/342826...  \n",
       "52396  https://www.gazeta.ru/social/2011/01/24/350307...  \n",
       "52397  https://www.gazeta.ru/culture/2014/05/19/a_603...  \n",
       "52398  https://www.gazeta.ru/social/2013/08/21/560047...  \n",
       "52399  https://www.gazeta.ru/sport/2019/04/04/a_12284...  \n",
       "\n",
       "[52400 rows x 5 columns]"
      ]
     },
     "execution_count": 5,
     "metadata": {},
     "output_type": "execute_result"
    }
   ],
   "source": [
    "df_train = pd.read_csv(\"../data/train.csv\")\n",
    "df_train"
   ]
  }
 ],
 "metadata": {
  "kernelspec": {
   "display_name": "Python 3",
   "language": "python",
   "name": "python3"
  },
  "language_info": {
   "codemirror_mode": {
    "name": "ipython",
    "version": 3
   },
   "file_extension": ".py",
   "mimetype": "text/x-python",
   "name": "python",
   "nbconvert_exporter": "python",
   "pygments_lexer": "ipython3",
   "version": "3.12.1"
  }
 },
 "nbformat": 4,
 "nbformat_minor": 2
}
